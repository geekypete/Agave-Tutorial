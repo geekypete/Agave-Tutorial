{
 "metadata": {
  "name": "",
  "signature": "sha256:2e466ea817ff1460a4757eae9512d39fcbbdf909fcff88597573b83ac3cdfa7c"
 },
 "nbformat": 3,
 "nbformat_minor": 0,
 "worksheets": [
  {
   "cells": [
    {
     "cell_type": "markdown",
     "metadata": {},
     "source": [
      "#**<font color=\"#1569C7\">Agave App Development Student Guide</font>**"
     ]
    },
    {
     "cell_type": "markdown",
     "metadata": {},
     "source": [
      "###**_<font color=\"#2C3539\">A Simple Tutorial To Make App Development Easier</font>_**"
     ]
    },
    {
     "cell_type": "markdown",
     "metadata": {},
     "source": [
      "####**<font color=\"maroon\">Before you begin ensure the following criteria are met:</font>**\n",
      "1. Do you have an iPlant account and do you remember your iPlant username and password? If you do not have an account yet register for one here: https://user.iplantcollaborative.org/register/\n",
      "\n",
      "2. Do you have a TACC account? If not register for one here: https://portal.tacc.utexas.edu/web/tup/account-request\n",
      "\n",
      "3. Do you have an XSEDE account? If not register for one here: https://portal.xsede.org/\n",
      "4. Have you contacted iPlant support and requested to be added to the iPlant-Collabs project and provided SSH access to Stampede? If not then send a message to http://agaveapi.co/contact/ explictly requesting Stampede SSH access and membership in the iPlant-Collabs project. You need to already have an iPlant, TACC, and XSEDE account to receive access."
     ]
    },
    {
     "cell_type": "markdown",
     "metadata": {},
     "source": [
      "###**_<font color=\"#1569C7\">Ready?</font>_** <img src=\"http://troll.me/images/x-all-the-things/lets-do-it.jpg\" alt=\"Lets do it!\" width=\"300\" >"
     ]
    },
    {
     "cell_type": "heading",
     "level": 3,
     "metadata": {},
     "source": [
      "1. Installing the Agave SDK to your Stampede instance:"
     ]
    },
    {
     "cell_type": "markdown",
     "metadata": {},
     "source": [
      "First you need to SSH into your Stampede instance. The command is as follows except be sure to replace username with your iPlant username. On Linux and OSX systems SSH is as easy as entering the following command in a terminal instance. "
     ]
    },
    {
     "cell_type": "code",
     "collapsed": false,
     "input": [
      "ssh username@stampede.tacc.utexas.edu"
     ],
     "language": "python",
     "metadata": {},
     "outputs": []
    },
    {
     "cell_type": "code",
     "collapsed": false,
     "input": [],
     "language": "python",
     "metadata": {},
     "outputs": []
    }
   ],
   "metadata": {}
  }
 ]
}