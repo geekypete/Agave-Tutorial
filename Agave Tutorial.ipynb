{
 "metadata": {
  "name": "",
  "signature": "sha256:3be1fcc9cea6a2b31ed0626f0df93791496bb1824804ea08717f60f1d661453f"
 },
 "nbformat": 3,
 "nbformat_minor": 0,
 "worksheets": []
}